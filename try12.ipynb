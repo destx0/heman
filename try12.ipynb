{
 "cells": [
  {
   "cell_type": "code",
   "execution_count": 12,
   "metadata": {},
   "outputs": [],
   "source": [
    "import numpy as np\n",
    "from Pyfhel import Pyfhel\n",
    "\n",
    "HE = Pyfhel()  # Creating empty Pyfhel object\n",
    "ckks_params = {\n",
    "    \"scheme\": \"CKKS\",  # can also be 'ckks'\n",
    "    \"n\": 2**14,  # Polynomial modulus degree. For CKKS, n/2 values can be\n",
    "    #  encoded in a single ciphertext.\n",
    "    #  Typ. 2^D for D in [10, 15]\n",
    "    \"scale\": 2**30,  # All the encodings will use it for float->fixed point\n",
    "    #  conversion: x_fix = round(x_float * scale)\n",
    "    #  You can use this as default scale or use a different\n",
    "    #  scale on each operation (set in HE.encryptFrac)\n",
    "    \"qi_sizes\": [60, 30, 30, 30, 60],  # Number of bits of each prime in the chain.\n",
    "    # Intermediate values should be  close to log2(scale)\n",
    "    # for each operation, to have small rounding errors.\n",
    "}\n",
    "HE.contextGen(**ckks_params)  # Generate context for ckks scheme\n",
    "HE.keyGen()  # Key Generation: generates a pair of public/secret keys\n",
    "HE.rotateKeyGen()"
   ]
  },
  {
   "cell_type": "code",
   "execution_count": 13,
   "metadata": {},
   "outputs": [
    {
     "name": "stdout",
     "output_type": "stream",
     "text": [
      "\n",
      "2. Fixed-point Encoding & Encryption, \n",
      "->\tarr_x  [ 0.1  0.2 -0.3] \n",
      "\t==> ptxt_x  <Pyfhel Plaintext at 0x7f9f8c04a400, scheme=ckks, poly=?, is_ntt=Y, mod_level=0> \n",
      "\t==> ctxt_x  <Pyfhel Ciphertext at 0x7f9f8bff63b0, scheme=ckks, size=2/2, scale_bits=30, mod_level=0>\n",
      "->\tarr_y  [-1.5  2.3  4.7] \n",
      "\t==> ptxt_y  <Pyfhel Plaintext at 0x7f9f8c56f7c0, scheme=ckks, poly=?, is_ntt=Y, mod_level=0> \n",
      "\t==> ctxt_y  <Pyfhel Ciphertext at 0x7f9f8c04e630, scheme=ckks, size=2/2, scale_bits=30, mod_level=0>\n"
     ]
    }
   ],
   "source": [
    "import numpy as np\n",
    "from Pyfhel import Pyfhel\n",
    "\n",
    "HE = Pyfhel()  # Creating empty Pyfhel object\n",
    "ckks_params = {\n",
    "    \"scheme\": \"CKKS\",  # can also be 'ckks'\n",
    "    \"n\": 2**14,  # Polynomial modulus degree. For CKKS, n/2 values can be\n",
    "    #  encoded in a single ciphertext.\n",
    "    #  Typ. 2^D for D in [10, 15]\n",
    "    \"scale\": 2**30,  # All the encodings will use it for float->fixed point\n",
    "    #  conversion: x_fix = round(x_float * scale)\n",
    "    #  You can use this as default scale or use a different\n",
    "    #  scale on each operation (set in HE.encryptFrac)\n",
    "    \"qi_sizes\": [60, 30, 30, 30, 60],  # Number of bits of each prime in the chain.\n",
    "    # Intermediate values should be  close to log2(scale)\n",
    "    # for each operation, to have small rounding errors.\n",
    "}\n",
    "HE.contextGen(**ckks_params)  # Generate context for ckks scheme\n",
    "HE.keyGen()  # Key Generation: generates a pair of public/secret keys\n",
    "HE.rotateKeyGen()\n",
    "arr_x = np.array([0.1, 0.2, -0.3], dtype=np.float64)  # Always use type float64!\n",
    "arr_y = np.array([-1.5, 2.3, 4.7], dtype=np.float64)\n",
    "\n",
    "ptxt_x = HE.encodeFrac(arr_x)  # Creates a PyPtxt plaintext with the encoded arr_x\n",
    "ptxt_y = HE.encodeFrac(\n",
    "    arr_y\n",
    ")  # plaintexts created from arrays shorter than 'n' are filled with zeros.\n",
    "\n",
    "ctxt_x = HE.encryptPtxt(ptxt_x)  # Encrypts the plaintext ptxt_x and returns a PyCtxt\n",
    "ctxt_y = HE.encryptPtxt(ptxt_y)  #  Alternatively you can use HE.encryptFrac(arr_y)\n",
    "\n",
    "# Otherwise, a single call to `HE.encrypt` would detect the data type,\n",
    "#  encode it and encrypt it\n",
    "# > ctxt_x = HE.encrypt(arr_x)\n",
    "\n",
    "print(\"\\n2. Fixed-point Encoding & Encryption, \")\n",
    "print(\"->\\tarr_x \", arr_x, \"\\n\\t==> ptxt_x \", ptxt_x, \"\\n\\t==> ctxt_x \", ctxt_x)\n",
    "print(\"->\\tarr_y \", arr_y, \"\\n\\t==> ptxt_y \", ptxt_y, \"\\n\\t==> ctxt_y \", ctxt_y)"
   ]
  },
  {
   "cell_type": "code",
   "execution_count": null,
   "metadata": {},
   "outputs": [],
   "source": []
  }
 ],
 "metadata": {
  "kernelspec": {
   "display_name": "heman39",
   "language": "python",
   "name": "python3"
  },
  "language_info": {
   "codemirror_mode": {
    "name": "ipython",
    "version": 3
   },
   "file_extension": ".py",
   "mimetype": "text/x-python",
   "name": "python",
   "nbconvert_exporter": "python",
   "pygments_lexer": "ipython3",
   "version": "3.9.19"
  }
 },
 "nbformat": 4,
 "nbformat_minor": 2
}

{
 "cells": [
  {
   "cell_type": "code",
   "execution_count": 1,
   "metadata": {},
   "outputs": [],
   "source": [
    "from Pyfhel import Pyfhel, PyPtxt, PyCtxt\n",
    "import time"
   ]
  },
  {
   "cell_type": "code",
   "execution_count": 2,
   "metadata": {},
   "outputs": [],
   "source": [
    "def gen_pk(s=128, alg_type=\"BFV\"):\n",
    "    HE = Pyfhel()\n",
    "\n",
    "    HE.contextGen(scheme=alg_type, sec=s, n=65537, t_bits=0, t=65537)\n",
    "    HE.keyGen()\n",
    "    # HE.relinKeyGen(60,4096)\n",
    "\n",
    "    keys = {}\n",
    "    keys[\"HE\"] = HE\n",
    "    keys[\"con\"] = HE.to_bytes_context()\n",
    "    keys[\"pk\"] = HE.to_bytes_publicKey()\n",
    "\n",
    "    return HE"
   ]
  },
  {
   "cell_type": "code",
   "execution_count": 3,
   "metadata": {},
   "outputs": [
    {
     "data": {
      "text/plain": [
       "<function __main__.gen_pk(s=128, alg_type='BFV')>"
      ]
     },
     "execution_count": 3,
     "metadata": {},
     "output_type": "execute_result"
    }
   ],
   "source": [
    "gen_pk"
   ]
  },
  {
   "cell_type": "code",
   "execution_count": 4,
   "metadata": {},
   "outputs": [
    {
     "ename": "TypeError",
     "evalue": "a bytes-like object is required, not 'int'",
     "output_type": "error",
     "traceback": [
      "\u001b[0;31m---------------------------------------------------------------------------\u001b[0m",
      "\u001b[0;31mTypeError\u001b[0m                                 Traceback (most recent call last)",
      "\u001b[0;32m/tmp/ipykernel_4019/809407945.py\u001b[0m in \u001b[0;36m<module>\u001b[0;34m\u001b[0m\n\u001b[1;32m     13\u001b[0m \u001b[0;34m\u001b[0m\u001b[0m\n\u001b[1;32m     14\u001b[0m \u001b[0;31m# Encrypt a value\u001b[0m\u001b[0;34m\u001b[0m\u001b[0;34m\u001b[0m\u001b[0;34m\u001b[0m\u001b[0m\n\u001b[0;32m---> 15\u001b[0;31m \u001b[0mplaintext\u001b[0m \u001b[0;34m=\u001b[0m \u001b[0mHE\u001b[0m\u001b[0;34m.\u001b[0m\u001b[0mencodeInt\u001b[0m\u001b[0;34m(\u001b[0m\u001b[0;36m10\u001b[0m\u001b[0;34m)\u001b[0m\u001b[0;34m\u001b[0m\u001b[0;34m\u001b[0m\u001b[0m\n\u001b[0m\u001b[1;32m     16\u001b[0m \u001b[0mciphertext\u001b[0m \u001b[0;34m=\u001b[0m \u001b[0mHE\u001b[0m\u001b[0;34m.\u001b[0m\u001b[0mencrypt\u001b[0m\u001b[0;34m(\u001b[0m\u001b[0mplaintext\u001b[0m\u001b[0;34m)\u001b[0m\u001b[0;34m\u001b[0m\u001b[0;34m\u001b[0m\u001b[0m\n\u001b[1;32m     17\u001b[0m \u001b[0;34m\u001b[0m\u001b[0m\n",
      "\u001b[0;32mPyfhel/Pyfhel.pyx\u001b[0m in \u001b[0;36mPyfhel.Pyfhel.Pyfhel.encodeInt\u001b[0;34m()\u001b[0m\n",
      "\u001b[0;32m~/miniconda3/envs/py37/lib/python3.7/site-packages/Pyfhel/Pyfhel.cpython-37m-x86_64-linux-gnu.so\u001b[0m in \u001b[0;36mView.MemoryView.memoryview_cwrapper\u001b[0;34m()\u001b[0m\n",
      "\u001b[0;32m~/miniconda3/envs/py37/lib/python3.7/site-packages/Pyfhel/Pyfhel.cpython-37m-x86_64-linux-gnu.so\u001b[0m in \u001b[0;36mView.MemoryView.memoryview.__cinit__\u001b[0;34m()\u001b[0m\n",
      "\u001b[0;31mTypeError\u001b[0m: a bytes-like object is required, not 'int'"
     ]
    }
   ],
   "source": [
    "from Pyfhel import Pyfhel\n",
    "s=128\n",
    "alg_type=\"BFV\"\n",
    "HE = Pyfhel()\n",
    "\n",
    "# Define the context parameters\n",
    "p = 65537  # Prime number, plaintext modulus\n",
    "# m is usually determined by other parameters like poly_modulus_degree in CKKS\n",
    "\n",
    "# Generate the context for BFV scheme\n",
    "HE.contextGen(scheme=alg_type, sec=s, n=2**13, t_bits=0, t=65537)\n",
    "HE.keyGen()\n",
    "\n",
    "# Encrypt a value\n",
    "plaintext = HE.encodeInt(10)\n",
    "ciphertext = HE.encrypt(plaintext)\n",
    "\n",
    "# Decrypt the ciphertext\n",
    "decrypted_plaintext = HE.decrypt(ciphertext)\n",
    "decrypted_value = HE.decodeInt(decrypted_plaintext)\n",
    "\n",
    "print(f\"Decrypted value: {decrypted_value}\")"
   ]
  },
  {
   "cell_type": "code",
   "execution_count": 20,
   "metadata": {},
   "outputs": [
    {
     "ename": "ModuleNotFoundError",
     "evalue": "No module named 'pyfhel'",
     "output_type": "error",
     "traceback": [
      "\u001b[0;31m---------------------------------------------------------------------------\u001b[0m",
      "\u001b[0;31mModuleNotFoundError\u001b[0m                       Traceback (most recent call last)",
      "\u001b[0;32m/tmp/ipykernel_27094/199690272.py\u001b[0m in \u001b[0;36m<module>\u001b[0;34m\u001b[0m\n\u001b[0;32m----> 1\u001b[0;31m \u001b[0;32mfrom\u001b[0m \u001b[0mpyfhel\u001b[0m \u001b[0;32mimport\u001b[0m \u001b[0mPyfhel\u001b[0m\u001b[0;34m\u001b[0m\u001b[0;34m\u001b[0m\u001b[0m\n\u001b[0m\u001b[1;32m      2\u001b[0m \u001b[0;34m\u001b[0m\u001b[0m\n\u001b[1;32m      3\u001b[0m \u001b[0;31m# Initialize Pyfhel\u001b[0m\u001b[0;34m\u001b[0m\u001b[0;34m\u001b[0m\u001b[0;34m\u001b[0m\u001b[0m\n\u001b[1;32m      4\u001b[0m \u001b[0mHE\u001b[0m \u001b[0;34m=\u001b[0m \u001b[0mPyfhel\u001b[0m\u001b[0;34m(\u001b[0m\u001b[0;34m)\u001b[0m\u001b[0;34m\u001b[0m\u001b[0;34m\u001b[0m\u001b[0m\n\u001b[1;32m      5\u001b[0m \u001b[0;34m\u001b[0m\u001b[0m\n",
      "\u001b[0;31mModuleNotFoundError\u001b[0m: No module named 'pyfhel'"
     ]
    }
   ],
   "source": [
    "from pyfhel import Pyfhel\n",
    "\n",
    "# Initialize Pyfhel\n",
    "HE = Pyfhel()\n",
    "\n",
    "# Define the context parameters\n",
    "# For BFV or CKKS schemes, poly_modulus_degree needs to be a power of 2, like 2048, 4096, etc.\n",
    "poly_modulus_degree = (\n",
    "    4096  # A common choice for a balance between security and efficiency\n",
    ")\n",
    "p = 65537  # Prime number, plaintext modulus for BFV\n",
    "\n",
    "# Generate the context for the BFV scheme\n",
    "# Note: Adjust the function call according to the specific requirements of your version of Pyfhel\n",
    "HE.contextGen(p=p, m=poly_modulus_degree)\n",
    "HE.keyGen()\n",
    "\n",
    "# Encrypt a value\n",
    "plaintext = HE.encodeInt(10)\n",
    "ciphertext = HE.encrypt(plaintext)\n",
    "\n",
    "# Decrypt the ciphertext\n",
    "decrypted_plaintext = HE.decrypt(ciphertext)\n",
    "decrypted_value = HE.decodeInt(decrypted_plaintext)\n",
    "\n",
    "print(f\"Decrypted value: {decrypted_value}\")"
   ]
  },
  {
   "cell_type": "code",
   "execution_count": 21,
   "metadata": {},
   "outputs": [],
   "source": [
    "import numpy as np\n",
    "from Pyfhel import Pyfhel"
   ]
  },
  {
   "cell_type": "code",
   "execution_count": 22,
   "metadata": {},
   "outputs": [
    {
     "name": "stdout",
     "output_type": "stream",
     "text": [
      "\n",
      "1. Pyfhel FHE context generation\n",
      "\t<bfv Pyfhel obj at 0x7fe3a806dc60, [pk:Y, sk:Y, rtk:Y, rlk:Y, contx(n=8192, t=1032193, sec=128, qi=[], scale=1.0, )]>\n"
     ]
    }
   ],
   "source": [
    "HE = Pyfhel()  # Creating empty Pyfhel object\n",
    "bfv_params = {\n",
    "    \"scheme\": \"BFV\",  # can also be 'bfv'\n",
    "    \"n\": 2**13,  # Polynomial modulus degree, the num. of slots per plaintext,\n",
    "    #  of elements to be encoded in a single ciphertext in a\n",
    "    #  2 by n/2 rectangular matrix (mind this shape for rotations!)\n",
    "    #  Typ. 2^D for D in [10, 16]\n",
    "    \"t\": 65537,  # Plaintext modulus. Encrypted operations happen modulo t\n",
    "    #  Must be prime such that t-1 be divisible by 2^N.\n",
    "    \"t_bits\": 20,  # Number of bits in t. Used to generate a suitable value\n",
    "    #  for t. Overrides t if specified.\n",
    "    \"sec\": 128,  # Security parameter. The equivalent length of AES key in bits.\n",
    "    #  Sets the ciphertext modulus q, can be one of {128, 192, 256}\n",
    "    #  More means more security but also slower computation.\n",
    "}\n",
    "HE.contextGen(**bfv_params)  # Generate context for bfv scheme\n",
    "HE.keyGen()  # Key Generation: generates a pair of public/secret keys\n",
    "HE.rotateKeyGen()  # Rotate key generation --> Allows rotation/shifting\n",
    "HE.relinKeyGen()  # Relinearization key generation\n",
    "\n",
    "print(\"\\n1. Pyfhel FHE context generation\")\n",
    "print(f\"\\t{HE}\")"
   ]
  },
  {
   "cell_type": "code",
   "execution_count": 23,
   "metadata": {},
   "outputs": [
    {
     "data": {
      "text/plain": [
       "'success: valid'"
      ]
     },
     "execution_count": 23,
     "metadata": {},
     "output_type": "execute_result"
    }
   ],
   "source": [
    "HE = Pyfhel()\n",
    "\n",
    "# Define the context parameters\n",
    "p = 65537  # Prime number, plaintext modulus\n",
    "# m is usually determined by other parameters like poly_modulus_degree in CKKS\n",
    "\n",
    "# Generate the context for BFV scheme\n",
    "HE.contextGen(scheme=\"BFV\", sec=s, n=2**13, t_bits=0, t=65537)"
   ]
  }
 ],
 "metadata": {
  "kernelspec": {
   "display_name": "gpy12",
   "language": "python",
   "name": "python3"
  },
  "language_info": {
   "codemirror_mode": {
    "name": "ipython",
    "version": 3
   },
   "file_extension": ".py",
   "mimetype": "text/x-python",
   "name": "python",
   "nbconvert_exporter": "python",
   "pygments_lexer": "ipython3",
   "version": "3.7.12"
  }
 },
 "nbformat": 4,
 "nbformat_minor": 2
}
